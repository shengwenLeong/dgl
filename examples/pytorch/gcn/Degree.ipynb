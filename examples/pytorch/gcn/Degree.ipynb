{
 "cells": [
  {
   "cell_type": "code",
   "execution_count": 19,
   "metadata": {
    "collapsed": true
   },
   "outputs": [],
   "source": [
    "import argparse, time\n",
    "import numpy as np\n",
    "import torch\n",
    "import torch.nn as nn\n",
    "import torch.nn.functional as F\n",
    "from dgl import DGLGraph\n",
    "from dgl import graph_index\n",
    "from dgl.graph_index import disjoint_partition\n",
    "from dgl.data import register_data_args, load_data\n",
    "import math\n",
    "from cacheout import Cache,LRUCache,MRUCache,LFUCache,FIFOCache,LIFOCache,RRCache"
   ]
  },
  {
   "cell_type": "code",
   "execution_count": 82,
   "metadata": {
    "collapsed": true
   },
   "outputs": [],
   "source": [
    "    parser = argparse.ArgumentParser(description='GCN')\n",
    "    parser.add_argument(\"--dataset\", type=str, default=\"Cora\",\n",
    "            help=\"dropout probability\")\n",
    "    parser.add_argument(\"--dropout\", type=float, default=0.5,\n",
    "            help=\"dropout probability\")\n",
    "    parser.add_argument(\"--gpu\", type=int, default=-1,\n",
    "            help=\"gpu\")\n",
    "    parser.add_argument(\"--lr\", type=float, default=1e-2,\n",
    "            help=\"learning rate\")\n",
    "    parser.add_argument(\"--n-epochs\", type=int, default=200,\n",
    "            help=\"number of training epochs\")\n",
    "    parser.add_argument(\"--n-hidden\", type=int, default=16,\n",
    "            help=\"number of hidden gcn units\")\n",
    "    parser.add_argument(\"--n-layers\", type=int, default=1,\n",
    "            help=\"number of hidden gcn layers\")\n",
    "    parser.add_argument(\"--weight-decay\", type=float, default=5e-4,\n",
    "            help=\"Weight for L2 loss\")\n",
    "    parser.add_argument(\"--self-loop\", action='store_true',\n",
    "            help=\"graph self-loop (default=False)\")\n",
    "    parser.set_defaults(self_loop=False)\n",
    "    args = parser.parse_args(args=[])"
   ]
  },
  {
   "cell_type": "code",
   "execution_count": 119,
   "metadata": {},
   "outputs": [
    {
     "name": "stdout",
     "output_type": "stream",
     "text": [
      "Finished data loading and preprocessing.\n",
      "  NumNodes: 65755\n",
      "  NumEdges: 251550\n",
      "  NumFeats: 5414\n",
      "  NumClasses: 210\n",
      "  NumTrainingSamples: 105\n",
      "  NumValidationSamples: 500\n",
      "  NumTestSamples: 969\n"
     ]
    }
   ],
   "source": [
    "data = load_data(args)\n",
    "n_edges = data.graph.number_of_edges()\n",
    "g = DGLGraph(data.graph)\n",
    "degree = g.in_degrees()+g.out_degrees()\n",
    "degree_sort = [i[0] for i in sorted(enumerate(degree), key=lambda x: x[1], reverse=True)]\n",
    "degree_cache_value = [list() for _ in range(32)]\n",
    "for val_ in degree_sort:\n",
    "    degree_cache_value[val_%32].append(val_)"
   ]
  },
  {
   "cell_type": "code",
   "execution_count": 120,
   "metadata": {},
   "outputs": [
    {
     "name": "stdout",
     "output_type": "stream",
     "text": [
      "the graph split to 2055 part\n"
     ]
    }
   ],
   "source": [
    "partition_size = 32\n",
    "Node_index = []\n",
    "Edge = []\n",
    "Edge_number = []\n",
    "partition_number = math.ceil(g.number_of_nodes() / partition_size)\n",
    "print(\"the graph split to {:d} part\". format(partition_number))\n",
    "for node_id in range(partition_number):\n",
    "    #print(node_id)\n",
    "    if node_id == partition_number-1:\n",
    "        index = list(range(partition_size*node_id,g.number_of_nodes()))\n",
    "    else:\n",
    "        index = list(range(partition_size*node_id,partition_size*(node_id+1)))\n",
    "    Node_index.append(index)\n",
    "    src, dst = g.out_edges(index)\n",
    "    Edge.append(list(zip(src.tolist(),dst.tolist())))\n",
    "    Edge_number.append(src.shape[0])"
   ]
  },
  {
   "cell_type": "code",
   "execution_count": 100,
   "metadata": {
    "collapsed": true
   },
   "outputs": [],
   "source": [
    "Total_size = int(2048/32)\n",
    "Precent = 0.1\n",
    "Degree_size = int(Total_size*Precent)\n",
    "Size = Total_size = Degree_size\n",
    "Degree = Cache(Degree_size)\n",
    "LRU = LRUCache(maxsize=Size)\n",
    "MRU = MRUCache(maxsize=Size)\n",
    "LFU = LFUCache(maxsize=Size)\n",
    "FIFO = FIFOCache(maxsize=Size)\n",
    "LIFO = LIFOCache(maxsize=Size)\n",
    "RR   = RRCache(maxsize = Size)"
   ]
  },
  {
   "cell_type": "code",
   "execution_count": 95,
   "metadata": {},
   "outputs": [
    {
     "name": "stdout",
     "output_type": "stream",
     "text": [
      "1.0-<class 'cacheout.lru.LRUCache'>-hit=136345, miss=115205\n"
     ]
    }
   ],
   "source": [
    "cache_bank  = [Cache(maxsize=64) for _ in range(32)]\n",
    "cache_hit = 0\n",
    "cache_miss = 0\n",
    "for e in Edge:\n",
    "    for val_ in e:\n",
    "        src, dst = val_\n",
    "        if cache_bank[dst%32].has(dst):\n",
    "            cache_hit = cache_hit + 1\n",
    "        else:\n",
    "            cache_bank[dst%32].set(dst, dst)\n",
    "            cache_miss = cache_miss + 1\n",
    "print('{}-{}-hit={}, miss={}'.format(pre, cache.__class__, cache_hit, cache_miss))"
   ]
  },
  {
   "cell_type": "code",
   "execution_count": 122,
   "metadata": {},
   "outputs": [
    {
     "name": "stdout",
     "output_type": "stream",
     "text": [
      "0,64\n",
      "0-<class 'cacheout.lru.LRUCache'>-hit=95312, miss=156238\n",
      "6,58\n",
      "0.1-<class 'cacheout.lru.LRUCache'>-hit=98699, miss=152851\n",
      "12,52\n",
      "0.2-<class 'cacheout.lru.LRUCache'>-hit=96782, miss=154768\n",
      "19,45\n",
      "0.3-<class 'cacheout.lru.LRUCache'>-hit=94288, miss=157262\n",
      "25,39\n",
      "0.4-<class 'cacheout.lru.LRUCache'>-hit=91826, miss=159724\n",
      "32,32\n",
      "0.5-<class 'cacheout.lru.LRUCache'>-hit=88473, miss=163077\n",
      "38,26\n",
      "0.6-<class 'cacheout.lru.LRUCache'>-hit=85014, miss=166536\n",
      "44,20\n",
      "0.7-<class 'cacheout.lru.LRUCache'>-hit=80589, miss=170961\n",
      "51,13\n",
      "0.8-<class 'cacheout.lru.LRUCache'>-hit=73204, miss=178346\n",
      "57,7\n",
      "0.9-<class 'cacheout.lru.LRUCache'>-hit=61039, miss=190511\n",
      "64,0\n",
      "1.0-<class 'cacheout.lru.LRUCache'>-hit=187843, miss=63707\n"
     ]
    }
   ],
   "source": [
    "Total_size = 64\n",
    "PrecentList = [0, 0.1, 0.2, 0.3, 0.4, 0.5, 0.6, 0.7, 0.8, 0.9, 1.0]\n",
    "for pre in PrecentList:\n",
    "    Degree_size = int(Total_size*pre)\n",
    "    Size = Total_size - Degree_size\n",
    "    Degree = Cache(2048)\n",
    "    print('{},{}'.format(Degree_size, Size))\n",
    "    LRU = LRUCache(maxsize=Size)\n",
    "    MRU = MRUCache(maxsize=Size)\n",
    "    LFU = LFUCache(maxsize=Size)\n",
    "    FIFO = FIFOCache(maxsize=Size)\n",
    "    LIFO = LIFOCache(maxsize=Size)\n",
    "    RR   = RRCache(maxsize = Size)\n",
    "    #acheList = [LRU, MRU, LFU, FIFO, LIFO, RR]\n",
    "    CacheList = [LRU]\n",
    "    for cache in CacheList:\n",
    "        cache_hit = 0\n",
    "        cache_miss = 0\n",
    "        cache_bank  = [cache for _ in range(32)]\n",
    "        degree_bank = [Degree for _ in range(32)]\n",
    "        if Degree_size:\n",
    "            for i, val_ in enumerate(degree_cache_value):\n",
    "                for id_ in val_[0:2048-1]:\n",
    "                    #print('{},{}'.format(i,id_))\n",
    "                    degree_bank[id_%32].set(id_, id_)\n",
    "        for e in Edge:\n",
    "            for val_ in e:\n",
    "                src, dst = val_\n",
    "                if degree_bank[dst%32].has(dst) or cache_bank[dst%32].has(dst):\n",
    "                    cache_hit = cache_hit + 1\n",
    "                else:\n",
    "                    cache_bank[dst%32].set(dst, dst)\n",
    "                    cache_miss = cache_miss + 1\n",
    "        print('{}-{}-hit={}, miss={}'.format(pre, cache.__class__, cache_hit, cache_miss))"
   ]
  },
  {
   "cell_type": "code",
   "execution_count": 104,
   "metadata": {},
   "outputs": [
    {
     "name": "stdout",
     "output_type": "stream",
     "text": [
      "0-<class 'cacheout.lru.LRUCache'>-hit=138438, miss=113112\n",
      "0.1-<class 'cacheout.lru.LRUCache'>-hit=139568, miss=111982\n",
      "0.2-<class 'cacheout.lru.LRUCache'>-hit=140566, miss=110984\n",
      "0.3-<class 'cacheout.lru.LRUCache'>-hit=141900, miss=109650\n",
      "0.4-<class 'cacheout.lru.LRUCache'>-hit=143109, miss=108441\n",
      "0.5-<class 'cacheout.lru.LRUCache'>-hit=143996, miss=107554\n",
      "0.6-<class 'cacheout.lru.LRUCache'>-hit=144778, miss=106772\n",
      "0.7-<class 'cacheout.lru.LRUCache'>-hit=145109, miss=106441\n",
      "0.8-<class 'cacheout.lru.LRUCache'>-hit=144898, miss=106652\n",
      "0.9-<class 'cacheout.lru.LRUCache'>-hit=143025, miss=108525\n",
      "1.0-<class 'cacheout.lru.LRUCache'>-hit=187842, miss=63708\n"
     ]
    }
   ],
   "source": [
    "Total_size = 2048\n",
    "PrecentList = [0, 0.1, 0.2, 0.3, 0.4, 0.5, 0.6, 0.7, 0.8, 0.9, 1.0]\n",
    "for pre in PrecentList:\n",
    "    Degree_size = int(Total_size*pre)\n",
    "    Size = Total_size - Degree_size\n",
    "    Degree = Cache(Degree_size)\n",
    "    LRU = LRUCache(maxsize=Size)\n",
    "    MRU = MRUCache(maxsize=Size)\n",
    "    LFU = LFUCache(maxsize=Size)\n",
    "    FIFO = FIFOCache(maxsize=Size)\n",
    "    LIFO = LIFOCache(maxsize=Size)\n",
    "    RR   = RRCache(maxsize = Size)\n",
    "    #CacheList = [LRU, MRU, LFU, FIFO, LIFO, RR]\n",
    "    CacheList = [LRU]\n",
    "    for cache in CacheList:\n",
    "        cache_hit = 0\n",
    "        cache_miss = 0\n",
    "        if Degree_size:\n",
    "            for id_ in degree_sort[0:Degree_size-1]:\n",
    "                Degree.set(id_, id_)\n",
    "        for e in Edge:\n",
    "            for val_ in e:\n",
    "                src, dst = val_\n",
    "                if Degree.has(dst) or cache.has(dst):\n",
    "                    cache_hit = cache_hit + 1\n",
    "                else:\n",
    "                    cache.set(dst, dst)\n",
    "                    cache_miss = cache_miss + 1\n",
    "        print('{}-{}-hit={}, miss={}'.format(pre, cache.__class__, cache_hit, cache_miss))"
   ]
  },
  {
   "cell_type": "code",
   "execution_count": 96,
   "metadata": {},
   "outputs": [
    {
     "name": "stdout",
     "output_type": "stream",
     "text": [
      "0.5-<class 'cacheout.lru.LRUCache'>-hit=115262, miss=136288\n",
      "0.5-<class 'cacheout.mru.MRUCache'>-hit=96109, miss=155441\n",
      "0.5-<class 'cacheout.lfu.LFUCache'>-hit=104798, miss=146752\n",
      "0.5-<class 'cacheout.fifo.FIFOCache'>-hit=114575, miss=136975\n",
      "0.5-<class 'cacheout.lifo.LIFOCache'>-hit=101205, miss=150345\n",
      "0.5-<class 'cacheout.rr.RRCache'>-hit=113931, miss=137619\n"
     ]
    }
   ],
   "source": [
    "PrecentList = [0.5]\n",
    "for pre in PrecentList:\n",
    "    Degree_size = int(Total_size*pre)\n",
    "    Size = Total_size - Degree_size\n",
    "    Degree = Cache(Degree_size)\n",
    "    LRU = LRUCache(maxsize=Size)\n",
    "    MRU = MRUCache(maxsize=Size)\n",
    "    LFU = LFUCache(maxsize=Size)\n",
    "    FIFO = FIFOCache(maxsize=Size)\n",
    "    LIFO = LIFOCache(maxsize=Size)\n",
    "    RR   = RRCache(maxsize = Size)\n",
    "    CacheList = [LRU, MRU, LFU, FIFO, LIFO, RR]\n",
    "    #CacheList = [LRU]\n",
    "    for cache in CacheList:\n",
    "        cache_hit = 0\n",
    "        cache_miss = 0\n",
    "        if Degree_size:\n",
    "            for id_ in degree_sort[0:Degree_size-1]:\n",
    "                Degree.set(id_, id_)\n",
    "        for e in Edge:\n",
    "            for val_ in e:\n",
    "                src, dst = val_\n",
    "                if Degree.has(dst) or cache.has(dst):\n",
    "                    cache_hit = cache_hit + 1\n",
    "                else:\n",
    "                    cache.set(dst, dst)\n",
    "                    cache_miss = cache_miss + 1\n",
    "        print('{}-{}-hit={}, miss={}'.format(pre, cache.__class__, cache_hit, cache_miss))"
   ]
  },
  {
   "cell_type": "code",
   "execution_count": 128,
   "metadata": {},
   "outputs": [
    {
     "name": "stdout",
     "output_type": "stream",
     "text": [
      "32-<class 'cacheout.lru.LRUCache'>-hit=47745, miss=203805\n",
      "64-<class 'cacheout.lru.LRUCache'>-hit=69022, miss=182528\n",
      "128-<class 'cacheout.lru.LRUCache'>-hit=92110, miss=159440\n",
      "256-<class 'cacheout.lru.LRUCache'>-hit=112547, miss=139003\n",
      "512-<class 'cacheout.lru.LRUCache'>-hit=123692, miss=127858\n",
      "1024-<class 'cacheout.lru.LRUCache'>-hit=131968, miss=119582\n",
      "2048-<class 'cacheout.lru.LRUCache'>-hit=141692, miss=109858\n",
      "4096-<class 'cacheout.lru.LRUCache'>-hit=154043, miss=97507\n",
      "8192-<class 'cacheout.lru.LRUCache'>-hit=170417, miss=81133\n",
      "16384-<class 'cacheout.lru.LRUCache'>-hit=191357, miss=60193\n"
     ]
    }
   ],
   "source": [
    "Total_size = [32,64,128,256,512,1024,2048,4096,8192,16384]\n",
    "PrecentList = [1]\n",
    "Hit = []\n",
    "for pre in Total_size:\n",
    "    Degree = Cache(pre)\n",
    "    LRU = LRUCache(maxsize=Size)\n",
    "    MRU = MRUCache(maxsize=Size)\n",
    "    LFU = LFUCache(maxsize=Size)\n",
    "    FIFO = FIFOCache(maxsize=Size)\n",
    "    LIFO = LIFOCache(maxsize=Size)\n",
    "    RR   = RRCache(maxsize = Size)\n",
    "    #CacheList = [LRU, MRU, LFU, FIFO, LIFO, RR]\n",
    "    CacheList = [LRU]\n",
    "    for cache in CacheList:\n",
    "        cache_hit = 0\n",
    "        cache_miss = 0\n",
    "        if Degree_size:\n",
    "            for id_ in degree_sort[0:pre-1]:\n",
    "                Degree.set(id_, id_)\n",
    "        for e in Edge:\n",
    "            for val_ in e:\n",
    "                src, dst = val_\n",
    "                if Degree.has(dst):\n",
    "                    cache_hit = cache_hit + 1\n",
    "                else:\n",
    "                    cache_miss = cache_miss + 1\n",
    "        Hit.append(cache_hit)\n",
    "        print('{}-{}-hit={}, miss={}'.format(pre, cache.__class__, cache_hit, cache_miss))"
   ]
  },
  {
   "cell_type": "code",
   "execution_count": 129,
   "metadata": {},
   "outputs": [
    {
     "data": {
      "image/png": "[encoded data removed]",
      "text/plain": [
       "<matplotlib.figure.Figure at 0x7fd0a687e5f8>"
      ]
     },
     "metadata": {},
     "output_type": "display_data"
    }
   ],
   "source": [
    "import matplotlib.pyplot as plt\n",
    "import numpy as np\n",
    "plt.plot(Total_size,Hit)\n",
    "plt.show()"
   ]
  },
  {
   "cell_type": "code",
   "execution_count": null,
   "metadata": {
    "collapsed": true
   },
   "outputs": [],
   "source": []
  }
 ],
 "metadata": {
  "kernelspec": {
   "display_name": "Python 3",
   "language": "python",
   "name": "python3"
  },
  "language_info": {
   "codemirror_mode": {
    "name": "ipython",
    "version": 3
   },
   "file_extension": ".py",
   "mimetype": "text/x-python",
   "name": "python",
   "nbconvert_exporter": "python",
   "pygments_lexer": "ipython3",
   "version": "3.6.3"
  }
 },
 "nbformat": 4,
 "nbformat_minor": 2
}

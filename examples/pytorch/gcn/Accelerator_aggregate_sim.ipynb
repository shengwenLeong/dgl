{
 "cells": [
  {
   "cell_type": "code",
   "execution_count": 399,
   "metadata": {},
   "outputs": [],
   "source": [
    "from queue import Queue\n",
    "import numpy as np\n",
    "import math\n",
    "\n",
    "class SystolicArrayCell:\n",
    "    def __init__(self, row_n, col_n):\n",
    "        self.pos_x = 0\n",
    "        self.pos_y = 0\n",
    "        self.row_n = row_n\n",
    "        self.col_n = col_n\n",
    "        \n",
    "        #ring register\n",
    "        self.receive_cell = None  #接收数据寄存器\n",
    "        self.receive_reg = 1\n",
    "        self.receive_out = 0\n",
    "        #self.send    =   #发送数据寄存器\n",
    "        \n",
    "        #On chip buffer\n",
    "        self.result_bank_input = None\n",
    "        \n",
    "        #edge update\n",
    "        self.process_id = 0\n",
    "        self.process_id_out = 0\n",
    "        self.next_src = -1\n",
    "        self.next_dst = -1\n",
    "        self.src = -1\n",
    "        self.dst = -1\n",
    "        self.rb_depth = 0\n",
    "        self.rb_value = 0\n",
    "        self.edge_empty   = False\n",
    "        self.edge_compute = True\n",
    "        self.hold         = False\n",
    "        self.edge_number = 0\n",
    "\n",
    "    # Connects this cell to its neighbors above and to the left\n",
    "    def connect(self, pos_x, pos_y, array):\n",
    "        self.pos_x = pos_x\n",
    "        self.pos_y = pos_y\n",
    "        self.edge_number = pos_y\n",
    "        #ring dataflow\n",
    "        if self.pos_y is array.row_n-1:\n",
    "            self.receive_cell = array.cells[0][self.pos_x] #cell 第一个代表行数，也就是Y， 第二个代表列数，也就是X\n",
    "        # Otherwise, it's another cell\n",
    "        else:\n",
    "            self.receive_cell = array.cells[self.pos_y+1][self.pos_x]\n",
    "        #each PE on the same row connect to the same result bank\n",
    "        self.result_bank_input = array.result_bank[self.pos_y][self.pos_x]\n",
    "        self.edge_bank         = array.edge_bank[self.pos_y]\n",
    "\n",
    "    def set_process_id(self, idx):\n",
    "        self.process_id = idx\n",
    "        \n",
    "    # We'll model the transfer of signals through registers with a read() and a\n",
    "    # compute() method. \n",
    "    # read() represents the registers sampling data at the positive edge of the\n",
    "    # clock\n",
    "    def read(self, edge_update):\n",
    "        #ring dataflow \n",
    "        #print(\"Enter | cell({:d},{:d}) next_src {:d}, next_dst {:d}, src {:d}, dst {:d}, process_id {:d}\". format(self.pos_x, self.pos_y, self.next_src, self.next_dst, self.src, self.dst, self.process_id))\n",
    "        if self.edge_bank.empty():\n",
    "            self.edge_empty = True\n",
    "        elif self.edge_compute or edge_update:\n",
    "            self.src, self.dst = self.edge_bank.get()\n",
    "            self.hold         = True\n",
    "            self.edge_compute = False\n",
    "        else:\n",
    "            self.edge_compute = False\n",
    "        \n",
    "        if edge_update:\n",
    "            self.process_id = self.process_id\n",
    "        else:\n",
    "            self.receive_reg = self.receive_cell.receive_out\n",
    "            self.process_id  = self.receive_cell.process_id_out\n",
    "        \n",
    "        #print(\"Medium | cell({:d},{:d}) next_src {:d}, next_dst {:d}, src {:d}, dst {:d}, process_id {:d}\". format(self.pos_x, self.pos_y, self.next_src, self.next_dst, self.src, self.dst, self.process_id))\n",
    "        if self.src == self.process_id and self.hold:\n",
    "            self.edge_compute = True\n",
    "            self.hold         = False\n",
    "        else:\n",
    "            self.edge_compute = False\n",
    "        '''\n",
    "        if edge_update:\n",
    "            if self.edge_bank.empty():\n",
    "                self.edge_empty = True\n",
    "                self.hold       = False\n",
    "            else:\n",
    "                self.next_src, self.next_dst = self.edge_bank.get()\n",
    "                self.hold                    = True\n",
    "        \n",
    "        if self.next_src == self.process_id and self.hold:\n",
    "            self.edge_compute = True\n",
    "            self.src  = self.next_src\n",
    "            self.dst  = self.next_dst\n",
    "            self.hold = False\n",
    "            if self.edge_bank.empty():\n",
    "                self.edge_empty = True\n",
    "            else:\n",
    "                self.next_src, self.next_dst = self.edge_bank.get()\n",
    "                self.hold = True\n",
    "        else:\n",
    "            self.edge_compute = False\n",
    "        '''\n",
    "        \n",
    "        self.rb_depth = int(self.dst/self.row_n)\n",
    "        print(\"Out | cell({:d},{:d}) next_src {:d}, next_dst {:d}, src {:d}, dst {:d}, process_id {:d}\". format(self.pos_x, self.pos_y, self.next_src, self.next_dst, self.src, self.dst, self.process_id))\n",
    "        self.rb_value = self.result_bank_input[self.rb_depth]\n",
    "        \n",
    "\n",
    "    # compute() represents combinational logic that takes place between \n",
    "    # positive edges of the clock (multiplication and addition)\n",
    "    def compute(self):\n",
    "        #ring dataflow\n",
    "        if self.edge_compute:\n",
    "            print(\"compute cell({:d},{:d}) src {:d}, dst {:d}\". format(self.pos_x, self.pos_y, self.src, self.dst))\n",
    "            self.result_bank_input[self.rb_depth] = self.rb_value + self.receive_reg\n",
    "        self.receive_out = self.receive_reg\n",
    "        self.process_id_out = self.process_id\n",
    "        #print(\"cell({:d},{:d}), hold {:d}, edge_empty {:d}\". format(self.pos_x, self.pos_y, self.hold, self.edge_empty))\n",
    "        #print(self.edge_number)\n",
    "        \n",
    "        \n",
    "    def cell_state(self):\n",
    "        #print(\"cell({:d},{:d}),rec_reg={:d}, rec_out={:d}, proc_id={:d}, proc_out={:d}\". format(self.pos_x, self.pos_y, self.receive_reg, self.receive_out, self.process_id, self.process_id_out))\n",
    "        print(\"cell({:d},{:d}),rec_reg={:d}, proc_id={:d}, rb_value={:d}\". format(self.pos_x, self.pos_y, self.receive_reg, self.process_id, self.rb_value))"
   ]
  },
  {
   "cell_type": "code",
   "execution_count": 403,
   "metadata": {},
   "outputs": [],
   "source": [
    "# This represents our entire array: cells, inputs, and outputs\n",
    "class SystolicArray:\n",
    "    # We'll take a parameter for the size of the square arrays to be multiplied\n",
    "    def __init__(self, row_n, col_n):\n",
    "        self.row_n = row_n\n",
    "        self.col_n = col_n\n",
    "\n",
    "        # \"cells\" will hold the array of processing elements\n",
    "        self.cells = []\n",
    "        # This array is a square with dimensions \"array_size\"\n",
    "        for _ in range(self.row_n):\n",
    "            row = []\n",
    "            for _ in range(self.col_n):\n",
    "                cell = SystolicArrayCell(row_n, col_n)\n",
    "                row.append(cell)\n",
    "            self.cells.append(row)\n",
    "        \n",
    "        \n",
    "        self.edge_bank   = [Queue() for _ in range(self.row_n)]\n",
    "        self.result_bank = [[list() for _ in range(self.col_n)] for _ in range(self.row_n)]\n",
    "\n",
    "        # When all cells and inputs are created, then they can be connected \n",
    "        # (again, this would be accomplished with wiring)\n",
    "        for row_num, row in enumerate(self.cells):\n",
    "            for col_num, cell in enumerate(row):\n",
    "                cell.connect(col_num, row_num, self) #每一行对应一个pos_y, 每一列对应一个pos_x\n",
    "    \n",
    "    #ring dataflow\n",
    "    def edge_preprocess(num_node, edge_src, edge_dst):\n",
    "        src, dst = zip(*(sorted(zip(edge_src, edge_dst), key=itemgetter(1))))\n",
    "        result = [list() for _ in range(num_node)]\n",
    "        for idx in range(len(dst)):\n",
    "            result[dst[idx]].append((src[idx],dst[idx]))\n",
    "        for idx in range(len(result)):\n",
    "            #print(idx)\n",
    "            #print(len(result[idx]))\n",
    "            if len(result[idx]) is 0:\n",
    "                result[idx] = []\n",
    "            else:\n",
    "                src, dst = zip(*result[idx])\n",
    "                result_A = []\n",
    "                result_B = []\n",
    "                for idx_ in range(len(src)):\n",
    "                    if(src[idx_] >= (dst[idx_]%3)):\n",
    "                        result_A.append((src[idx_], dst[idx_]))\n",
    "                    else:\n",
    "                        result_B.append((src[idx_], dst[idx_]))\n",
    "                result_A.extend(result_B)\n",
    "                result[idx] = result_A\n",
    "        return result\n",
    "\n",
    "    def fill_edges(self, num_node, edge_src, edge_dst):\n",
    "        edge_ = edge_preprocess(num_node, edge_src, edge_dst)\n",
    "        for i, val in enumerate(edge_):\n",
    "            for e in val:\n",
    "                self.edge_bank[i%3].put(e)\n",
    "                \n",
    "    def fill_result_banks(self, num_nodes):\n",
    "        for row_num in range(self.row_n):\n",
    "            for idx_ in range(self.col_n):  \n",
    "                for _ in range(math.ceil(num_nodes/self.row_n)):\n",
    "                    self.result_bank[row_num][idx_].append(0)\n",
    "                    \n",
    "    def fill_idx(self,idx):\n",
    "        for row_num in range(self.row_n):\n",
    "            for col_num in range(self.col_n):\n",
    "                self.cells[row_num][col_num].set_process_id(idx[row_num])\n",
    "    \n",
    "    # For this demo, all cells will read() the values of their neighbors first\n",
    "    def read(self,edge_update):\n",
    "        for row in self.cells:\n",
    "            for cell in row:\n",
    "                cell.read(edge_update)\n",
    "\n",
    "    # And then after all cells have read(), they will compute() the next step\n",
    "    def compute(self):\n",
    "        for row in self.cells:\n",
    "            for cell in row:\n",
    "                cell.compute()\n",
    "                \n",
    "    def terminal_signal(self):\n",
    "        for row in self.cells:\n",
    "            for cell in row:\n",
    "                #print(cell.hold)\n",
    "                #print(cell.edge_bank.empty())\n",
    "                if cell.hold or not cell.edge_empty:\n",
    "                    return False\n",
    "        return True\n",
    "        #for id_x in self.edge_bank:\n",
    "        #    if id_x.empty() is False:\n",
    "        #        return False\n",
    "        #return True\n",
    "            \n",
    "            \n",
    "    def show_staus(self):\n",
    "        for row in self.cells:\n",
    "            for cell in row:\n",
    "                cell.cell_state()\n",
    "                \n",
    "    # Each cycle involves a read() and a compute()\n",
    "    def cycle(self, edge_update):\n",
    "        # read() models register sampling on the positive edge of the clock\n",
    "        self.read(edge_update)\n",
    "        # compute() models the combinational logic between clock edges\n",
    "        self.compute()\n",
    "        self.show_staus()\n",
    "\n",
    "    # run() will execute the array's computation, assuming it's been filled\n",
    "    def run(self, num_nodes):\n",
    "        # It takes 3n-2 cycles to compute the full matrix of results\n",
    "        edge_update = True\n",
    "        for cycle in range(3*self.row_n):\n",
    "            print(\"-----Cycle----{:d}----------\". format(cycle))\n",
    "            self.cycle(edge_update)\n",
    "            edge_update = False\n",
    "            self.get_edge_output(num_nodes)\n",
    "            if(self.terminal_signal()):\n",
    "                break\n",
    "        return self.get_outputs()\n",
    "\n",
    "    # The outputs are also staggered and transposed, so we'll format them \n",
    "    # before returning the results\n",
    "    def get_outputs(self):\n",
    "        ret = []\n",
    "\n",
    "        return ret\n",
    "\n",
    "    def get_edge_output(self, num_nodes):\n",
    "        for id_x in range(num_nodes):\n",
    "            print(\"id={:d}-|-{:d}\". format(id_x, self.result_bank[int(id_x%self.row_n)][0][int(id_x/self.row_n)]))"
   ]
  },
  {
   "cell_type": "code",
   "execution_count": 404,
   "metadata": {},
   "outputs": [
    {
     "name": "stdout",
     "output_type": "stream",
     "text": [
      "-----Cycle----0----------\n",
      "Out | cell(0,0) next_src -1, next_dst -1, src 0, dst 0, process_id 0\n",
      "Out | cell(0,1) next_src -1, next_dst -1, src 0, dst 1, process_id 1\n",
      "Out | cell(0,2) next_src -1, next_dst -1, src 1, dst 2, process_id 2\n",
      "compute cell(0,0) src 0, dst 0\n",
      "cell(0,0),rec_reg=1, proc_id=0, rb_value=0\n",
      "cell(0,1),rec_reg=1, proc_id=1, rb_value=0\n",
      "cell(0,2),rec_reg=1, proc_id=2, rb_value=0\n",
      "id=0-|-1\n",
      "id=1-|-0\n",
      "id=2-|-0\n",
      "id=3-|-0\n",
      "id=4-|-0\n",
      "id=5-|-0\n",
      "-----Cycle----1----------\n",
      "Out | cell(0,0) next_src -1, next_dst -1, src 2, dst 0, process_id 1\n",
      "Out | cell(0,1) next_src -1, next_dst -1, src 0, dst 1, process_id 2\n",
      "Out | cell(0,2) next_src -1, next_dst -1, src 1, dst 2, process_id 0\n",
      "cell(0,0),rec_reg=1, proc_id=1, rb_value=1\n",
      "cell(0,1),rec_reg=1, proc_id=2, rb_value=0\n",
      "cell(0,2),rec_reg=1, proc_id=0, rb_value=0\n",
      "id=0-|-1\n",
      "id=1-|-0\n",
      "id=2-|-0\n",
      "id=3-|-0\n",
      "id=4-|-0\n",
      "id=5-|-0\n",
      "-----Cycle----2----------\n",
      "Out | cell(0,0) next_src -1, next_dst -1, src 2, dst 0, process_id 2\n",
      "Out | cell(0,1) next_src -1, next_dst -1, src 0, dst 1, process_id 0\n",
      "Out | cell(0,2) next_src -1, next_dst -1, src 1, dst 2, process_id 1\n",
      "compute cell(0,0) src 2, dst 0\n",
      "compute cell(0,1) src 0, dst 1\n",
      "compute cell(0,2) src 1, dst 2\n",
      "cell(0,0),rec_reg=1, proc_id=2, rb_value=1\n",
      "cell(0,1),rec_reg=1, proc_id=0, rb_value=0\n",
      "cell(0,2),rec_reg=1, proc_id=1, rb_value=0\n",
      "id=0-|-2\n",
      "id=1-|-1\n",
      "id=2-|-1\n",
      "id=3-|-0\n",
      "id=4-|-0\n",
      "id=5-|-0\n",
      "-----Cycle----3----------\n",
      "Out | cell(0,0) next_src -1, next_dst -1, src 0, dst 3, process_id 0\n",
      "Out | cell(0,1) next_src -1, next_dst -1, src 1, dst 4, process_id 1\n",
      "Out | cell(0,2) next_src -1, next_dst -1, src 2, dst 5, process_id 2\n",
      "compute cell(0,0) src 0, dst 3\n",
      "compute cell(0,1) src 1, dst 4\n",
      "compute cell(0,2) src 2, dst 5\n",
      "cell(0,0),rec_reg=1, proc_id=0, rb_value=0\n",
      "cell(0,1),rec_reg=1, proc_id=1, rb_value=0\n",
      "cell(0,2),rec_reg=1, proc_id=2, rb_value=0\n",
      "id=0-|-2\n",
      "id=1-|-1\n",
      "id=2-|-1\n",
      "id=3-|-1\n",
      "id=4-|-1\n",
      "id=5-|-1\n",
      "-----Cycle----4----------\n",
      "Out | cell(0,0) next_src -1, next_dst -1, src 2, dst 3, process_id 1\n",
      "Out | cell(0,1) next_src -1, next_dst -1, src 1, dst 4, process_id 2\n",
      "Out | cell(0,2) next_src -1, next_dst -1, src 0, dst 5, process_id 0\n",
      "compute cell(0,2) src 0, dst 5\n",
      "cell(0,0),rec_reg=1, proc_id=1, rb_value=1\n",
      "cell(0,1),rec_reg=1, proc_id=2, rb_value=1\n",
      "cell(0,2),rec_reg=1, proc_id=0, rb_value=1\n",
      "id=0-|-2\n",
      "id=1-|-1\n",
      "id=2-|-1\n",
      "id=3-|-1\n",
      "id=4-|-1\n",
      "id=5-|-2\n",
      "-----Cycle----5----------\n",
      "Out | cell(0,0) next_src -1, next_dst -1, src 2, dst 3, process_id 2\n",
      "Out | cell(0,1) next_src -1, next_dst -1, src 1, dst 4, process_id 0\n",
      "Out | cell(0,2) next_src -1, next_dst -1, src 0, dst 5, process_id 1\n",
      "compute cell(0,0) src 2, dst 3\n",
      "cell(0,0),rec_reg=1, proc_id=2, rb_value=1\n",
      "cell(0,1),rec_reg=1, proc_id=0, rb_value=1\n",
      "cell(0,2),rec_reg=1, proc_id=1, rb_value=2\n",
      "id=0-|-2\n",
      "id=1-|-1\n",
      "id=2-|-1\n",
      "id=3-|-2\n",
      "id=4-|-1\n",
      "id=5-|-2\n"
     ]
    }
   ],
   "source": [
    "# Here we'll use a small 3x3 test multiplication to see the systolic array\n",
    "# in action\n",
    "row_n = 3\n",
    "col_n = 1\n",
    "myArray = SystolicArray(row_n, col_n)\n",
    "\n",
    "#src = [0,1,2,1,2,0,2,0,1]\n",
    "#dst = [0,1,2,0,1,2,0,1,2]\n",
    "\n",
    "#src = [0,0,0,0,1,1,2,2,2]\n",
    "#dst = [0,1,3,5,2,4,0,3,5]\n",
    "\n",
    "src = [0,1,1,2,0,0,0,2,2]\n",
    "dst = [0,2,4,0,1,3,5,3,5]\n",
    "\n",
    "#src = [0,0,1,2]\n",
    "#dst = [0,1,2,0]\n",
    "\n",
    "myArray.fill_edges(6, src, dst)\n",
    "\n",
    "idx = [0,1,2]\n",
    "myArray.fill_idx(idx)\n",
    "myArray.fill_result_banks(6)       \n",
    "\n",
    "res = myArray.run(6)\n",
    "#assert (res == np.matmul(activations, weights)).all()\n",
    "#print('Systolic array matches numpy matmul')"
   ]
  },
  {
   "cell_type": "code",
   "execution_count": 390,
   "metadata": {
    "collapsed": true
   },
   "outputs": [],
   "source": [
    "#src = [0,0,0,0,1,1,2,2,2]\n",
    "#dst = [0,1,3,5,2,4,0,3,5]\n",
    "src = [0,1,2,1,2,0,2,0,1]\n",
    "dst = [0,1,2,0,1,2,0,1,2]"
   ]
  },
  {
   "cell_type": "code",
   "execution_count": 270,
   "metadata": {
    "collapsed": true
   },
   "outputs": [],
   "source": [
    "    edge_bank   = [Queue() for _ in range(3)]\n",
    "    def edge_preprocess(num_node, edge_src, edge_dst):\n",
    "        src, dst = zip(*(sorted(zip(edge_src, edge_dst), key=itemgetter(1))))\n",
    "        result = [list() for _ in range(num_node)]\n",
    "        for idx in range(len(dst)):\n",
    "            result[dst[idx]].append((src[idx],dst[idx]))\n",
    "        for idx in range(len(result)):\n",
    "            #print(idx)\n",
    "            #print(len(result[idx]))\n",
    "            if len(result[idx]) is 0:\n",
    "                result[idx] = []\n",
    "            else:\n",
    "                src, dst = zip(*result[idx])\n",
    "                result_A = []\n",
    "                result_B = []\n",
    "                for idx_ in range(len(src)):\n",
    "                    if(src[idx_] >= (dst[idx_]%3)):\n",
    "                        result_A.append((src[idx_], dst[idx_]))\n",
    "                    else:\n",
    "                        result_B.append((src[idx_], dst[idx_]))\n",
    "                result_A.extend(result_B)\n",
    "                result[idx] = result_A\n",
    "        return result\n",
    "    def fill_edges(num_node, edge_src, edge_dst):\n",
    "        edge_ = edge_preprocess(num_node, edge_src, edge_dst)\n",
    "        for i, val in enumerate(A):\n",
    "            for edge in val:\n",
    "                edge_bank[i%3].put(edge)"
   ]
  },
  {
   "cell_type": "code",
   "execution_count": 271,
   "metadata": {},
   "outputs": [],
   "source": [
    "A = edge_preprocess(3, src, dst)"
   ]
  },
  {
   "cell_type": "code",
   "execution_count": 272,
   "metadata": {},
   "outputs": [],
   "source": [
    "for i, val in enumerate(A):\n",
    "    for edge in val:\n",
    "        edge_bank[i%3].put(edge)"
   ]
  },
  {
   "cell_type": "code",
   "execution_count": 273,
   "metadata": {},
   "outputs": [
    {
     "name": "stdout",
     "output_type": "stream",
     "text": [
      "3\n",
      "3\n",
      "3\n"
     ]
    }
   ],
   "source": [
    "for val in edge_bank:\n",
    "    print(val.qsize())"
   ]
  },
  {
   "cell_type": "code",
   "execution_count": 102,
   "metadata": {},
   "outputs": [
    {
     "data": {
      "text/plain": [
       "(0, 1, 2)"
      ]
     },
     "execution_count": 102,
     "metadata": {},
     "output_type": "execute_result"
    }
   ],
   "source": [
    "src"
   ]
  },
  {
   "cell_type": "code",
   "execution_count": 103,
   "metadata": {},
   "outputs": [
    {
     "data": {
      "text/plain": [
       "(1, 1, 1)"
      ]
     },
     "execution_count": 103,
     "metadata": {},
     "output_type": "execute_result"
    }
   ],
   "source": [
    "dst"
   ]
  },
  {
   "cell_type": "code",
   "execution_count": 104,
   "metadata": {},
   "outputs": [],
   "source": [
    "result_A = []\n",
    "result_B = []\n",
    "result_  = []\n",
    "for idx in range(len(src)):\n",
    "    if(src[idx] >= dst[idx]):\n",
    "        result_A.append((src[idx], dst[idx]))\n",
    "    else:\n",
    "        result_B.append((src[idx], dst[idx]))\n",
    "result_.append(result_A.extend(result_B))"
   ]
  },
  {
   "cell_type": "code",
   "execution_count": 105,
   "metadata": {},
   "outputs": [
    {
     "data": {
      "text/plain": [
       "[(1, 1), (2, 1), (0, 1)]"
      ]
     },
     "execution_count": 105,
     "metadata": {},
     "output_type": "execute_result"
    }
   ],
   "source": [
    "result_A"
   ]
  },
  {
   "cell_type": "code",
   "execution_count": 106,
   "metadata": {},
   "outputs": [
    {
     "data": {
      "text/plain": [
       "[(0, 1)]"
      ]
     },
     "execution_count": 106,
     "metadata": {},
     "output_type": "execute_result"
    }
   ],
   "source": [
    "result_B"
   ]
  },
  {
   "cell_type": "code",
   "execution_count": 107,
   "metadata": {},
   "outputs": [
    {
     "data": {
      "text/plain": [
       "[None]"
      ]
     },
     "execution_count": 107,
     "metadata": {},
     "output_type": "execute_result"
    }
   ],
   "source": [
    "result_"
   ]
  },
  {
   "cell_type": "code",
   "execution_count": 243,
   "metadata": {},
   "outputs": [],
   "source": [
    "edge_bank   = [Queue() for _ in range(3)]"
   ]
  },
  {
   "cell_type": "code",
   "execution_count": 245,
   "metadata": {},
   "outputs": [
    {
     "name": "stdout",
     "output_type": "stream",
     "text": [
      "1\n",
      "1\n",
      "1\n"
     ]
    }
   ],
   "source": [
    "for id_x in edge_bank:\n",
    "    print(1)"
   ]
  },
  {
   "cell_type": "code",
   "execution_count": null,
   "metadata": {
    "collapsed": true
   },
   "outputs": [],
   "source": []
  }
 ],
 "metadata": {
  "kernelspec": {
   "display_name": "Python 3",
   "language": "python",
   "name": "python3"
  },
  "language_info": {
   "codemirror_mode": {
    "name": "ipython",
    "version": 3
   },
   "file_extension": ".py",
   "mimetype": "text/x-python",
   "name": "python",
   "nbconvert_exporter": "python",
   "pygments_lexer": "ipython3",
   "version": "3.6.3"
  }
 },
 "nbformat": 4,
 "nbformat_minor": 2
}

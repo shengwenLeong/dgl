{
 "cells": [
  {
   "cell_type": "code",
   "execution_count": 24,
   "metadata": {
    "collapsed": true
   },
   "outputs": [],
   "source": [
    "import argparse, time\n",
    "import numpy as np\n",
    "import torch\n",
    "import torch.nn as nn\n",
    "import torch.nn.functional as F\n",
    "from dgl import DGLGraph\n",
    "from dgl import graph_index\n",
    "from dgl.graph_index import disjoint_partition\n",
    "from dgl.data import register_data_args, load_data\n",
    "import math"
   ]
  },
  {
   "cell_type": "code",
   "execution_count": 37,
   "metadata": {
    "collapsed": true
   },
   "outputs": [],
   "source": [
    "    parser = argparse.ArgumentParser(description='GCN')\n",
    "    parser.add_argument(\"--dataset\", type=str, default=\"reddit-self-loop\",\n",
    "            help=\"dropout probability\")\n",
    "    parser.add_argument(\"--dropout\", type=float, default=0.5,\n",
    "            help=\"dropout probability\")\n",
    "    parser.add_argument(\"--gpu\", type=int, default=-1,\n",
    "            help=\"gpu\")\n",
    "    parser.add_argument(\"--lr\", type=float, default=1e-2,\n",
    "            help=\"learning rate\")\n",
    "    parser.add_argument(\"--n-epochs\", type=int, default=200,\n",
    "            help=\"number of training epochs\")\n",
    "    parser.add_argument(\"--n-hidden\", type=int, default=16,\n",
    "            help=\"number of hidden gcn units\")\n",
    "    parser.add_argument(\"--n-layers\", type=int, default=1,\n",
    "            help=\"number of hidden gcn layers\")\n",
    "    parser.add_argument(\"--weight-decay\", type=float, default=5e-4,\n",
    "            help=\"Weight for L2 loss\")\n",
    "    parser.add_argument(\"--self-loop\", action='store_true',\n",
    "            help=\"graph self-loop (default=False)\")\n",
    "    parser.set_defaults(self_loop=False)\n",
    "    args = parser.parse_args(args=[])"
   ]
  },
  {
   "cell_type": "code",
   "execution_count": 38,
   "metadata": {},
   "outputs": [
    {
     "name": "stdout",
     "output_type": "stream",
     "text": [
      "Finished data loading.\n",
      "  NumNodes: 232965\n",
      "  NumEdges: 114848857\n",
      "  NumFeats: 602\n",
      "  NumClasses: 41\n",
      "  NumTrainingSamples: 153431\n",
      "  NumValidationSamples: 23831\n",
      "  NumTestSamples: 55703\n"
     ]
    }
   ],
   "source": [
    "    data = load_data(args)\n",
    "    features = torch.FloatTensor(data.features)\n",
    "    labels = torch.LongTensor(data.labels)\n",
    "    train_mask = torch.ByteTensor(data.train_mask)\n",
    "    val_mask = torch.ByteTensor(data.val_mask)\n",
    "    test_mask = torch.ByteTensor(data.test_mask)\n",
    "    in_feats = features.shape[1]\n",
    "    n_classes = data.num_labels\n",
    "    n_edges = data.graph.number_of_edges()"
   ]
  },
  {
   "cell_type": "code",
   "execution_count": 39,
   "metadata": {},
   "outputs": [],
   "source": [
    "g = DGLGraph(data.graph)"
   ]
  },
  {
   "cell_type": "code",
   "execution_count": 40,
   "metadata": {
    "collapsed": true
   },
   "outputs": [],
   "source": [
    "partition_size = 32"
   ]
  },
  {
   "cell_type": "code",
   "execution_count": 41,
   "metadata": {},
   "outputs": [
    {
     "name": "stdout",
     "output_type": "stream",
     "text": [
      "the graph split to 7281 part\n"
     ]
    }
   ],
   "source": [
    "Edge = []\n",
    "Edge_number = []\n",
    "partition_number = math.ceil(g.number_of_nodes() / partition_size)\n",
    "print(\"the graph split to {:d} part\". format(partition_number))\n",
    "for node_id in range(partition_number):\n",
    "    #print(node_id)\n",
    "    if node_id == partition_number-1:\n",
    "        index = list(range(partition_size*node_id,g.number_of_nodes()))\n",
    "    else:\n",
    "        index = list(range(partition_size*node_id,partition_size*(node_id+1)))\n",
    "    src, dst = g.out_edges(index)\n",
    "    Edge.append(list(zip(src.tolist(),dst.tolist())))\n",
    "    Edge_number.append(src.shape[0])"
   ]
  },
  {
   "cell_type": "code",
   "execution_count": 42,
   "metadata": {},
   "outputs": [
    {
     "data": {
      "text/plain": [
       "42368"
      ]
     },
     "execution_count": 42,
     "metadata": {},
     "output_type": "execute_result"
    }
   ],
   "source": [
    "max(Edge_number)"
   ]
  },
  {
   "cell_type": "code",
   "execution_count": 21,
   "metadata": {},
   "outputs": [
    {
     "data": {
      "text/plain": [
       "10556"
      ]
     },
     "execution_count": 21,
     "metadata": {},
     "output_type": "execute_result"
    }
   ],
   "source": [
    "n_edges"
   ]
  },
  {
   "cell_type": "code",
   "execution_count": 23,
   "metadata": {},
   "outputs": [
    {
     "data": {
      "text/plain": [
       "[127,\n",
       " 129,\n",
       " 194,\n",
       " 134,\n",
       " 164,\n",
       " 289,\n",
       " 134,\n",
       " 132,\n",
       " 118,\n",
       " 151,\n",
       " 161,\n",
       " 134,\n",
       " 115,\n",
       " 221,\n",
       " 171,\n",
       " 128,\n",
       " 149,\n",
       " 330,\n",
       " 166,\n",
       " 213,\n",
       " 124,\n",
       " 142,\n",
       " 110,\n",
       " 231,\n",
       " 130,\n",
       " 119,\n",
       " 118,\n",
       " 104,\n",
       " 122,\n",
       " 91,\n",
       " 130,\n",
       " 130,\n",
       " 114,\n",
       " 122,\n",
       " 118,\n",
       " 144,\n",
       " 125,\n",
       " 116,\n",
       " 140,\n",
       " 149,\n",
       " 140,\n",
       " 154,\n",
       " 118,\n",
       " 91,\n",
       " 102,\n",
       " 126,\n",
       " 117,\n",
       " 169,\n",
       " 118,\n",
       " 139,\n",
       " 103,\n",
       " 115,\n",
       " 105,\n",
       " 137,\n",
       " 87,\n",
       " 86,\n",
       " 103,\n",
       " 94,\n",
       " 86,\n",
       " 107,\n",
       " 86,\n",
       " 90,\n",
       " 77,\n",
       " 93,\n",
       " 84,\n",
       " 92,\n",
       " 72,\n",
       " 121,\n",
       " 109,\n",
       " 108,\n",
       " 81,\n",
       " 93,\n",
       " 105,\n",
       " 107,\n",
       " 94,\n",
       " 133,\n",
       " 82,\n",
       " 88,\n",
       " 112,\n",
       " 81,\n",
       " 104,\n",
       " 85,\n",
       " 69,\n",
       " 100,\n",
       " 54]"
      ]
     },
     "execution_count": 23,
     "metadata": {},
     "output_type": "execute_result"
    }
   ],
   "source": [
    "Edge_number"
   ]
  },
  {
   "cell_type": "code",
   "execution_count": 16,
   "metadata": {},
   "outputs": [
    {
     "data": {
      "text/plain": [
       "124"
      ]
     },
     "execution_count": 16,
     "metadata": {},
     "output_type": "execute_result"
    }
   ],
   "source": [
    "Edge_number"
   ]
  },
  {
   "cell_type": "code",
   "execution_count": 36,
   "metadata": {},
   "outputs": [
    {
     "ename": "TypeError",
     "evalue": "'list' object is not callable",
     "output_type": "error",
     "traceback": [
      "\u001b[0;31m---------------------------------------------------------------------------\u001b[0m",
      "\u001b[0;31mTypeError\u001b[0m                                 Traceback (most recent call last)",
      "\u001b[0;32m<ipython-input-36-2c48cf3567a7>\u001b[0m in \u001b[0;36m<module>\u001b[0;34m()\u001b[0m\n\u001b[0;32m----> 1\u001b[0;31m \u001b[0mindex\u001b[0m \u001b[0;34m=\u001b[0m \u001b[0mlist\u001b[0m\u001b[0;34m(\u001b[0m\u001b[0mrange\u001b[0m\u001b[0;34m(\u001b[0m\u001b[0;36m1\u001b[0m\u001b[0;34m,\u001b[0m\u001b[0;36m2\u001b[0m\u001b[0;34m)\u001b[0m\u001b[0;34m)\u001b[0m\u001b[0;34m\u001b[0m\u001b[0m\n\u001b[0m",
      "\u001b[0;31mTypeError\u001b[0m: 'list' object is not callable"
     ]
    }
   ],
   "source": [
    "index = list(range(1,2))"
   ]
  },
  {
   "cell_type": "code",
   "execution_count": null,
   "metadata": {
    "collapsed": true
   },
   "outputs": [],
   "source": []
  }
 ],
 "metadata": {
  "kernelspec": {
   "display_name": "Python 3",
   "language": "python",
   "name": "python3"
  },
  "language_info": {
   "codemirror_mode": {
    "name": "ipython",
    "version": 3
   },
   "file_extension": ".py",
   "mimetype": "text/x-python",
   "name": "python",
   "nbconvert_exporter": "python",
   "pygments_lexer": "ipython3",
   "version": "3.6.3"
  }
 },
 "nbformat": 4,
 "nbformat_minor": 2
}

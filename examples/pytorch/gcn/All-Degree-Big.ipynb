{
 "cells": [
  {
   "cell_type": "code",
   "execution_count": 1,
   "metadata": {
    "collapsed": true
   },
   "outputs": [],
   "source": [
    "import argparse, time\n",
    "import numpy as np\n",
    "import torch\n",
    "import torch.nn as nn\n",
    "import torch.nn.functional as F\n",
    "from dgl import DGLGraph\n",
    "from dgl import graph_index\n",
    "from dgl.graph_index import disjoint_partition\n",
    "from dgl.data import citation_graph, CoraFull, RedditDataset\n",
    "from dgl.data import AmazonCoBuy, Coauthor\n",
    "from dgl.contrib.data import load_data\n",
    "import math\n",
    "from cacheout import Cache,LRUCache,MRUCache,LFUCache,FIFOCache,LIFOCache,RRCache"
   ]
  },
  {
   "cell_type": "code",
   "execution_count": 2,
   "metadata": {},
   "outputs": [
    {
     "name": "stdout",
     "output_type": "stream",
     "text": [
      "load finish\n",
      "Finished synthetic dataset generation.\n",
      "  NumNodes: 8600000\n",
      "  NumEdges: 231600000\n",
      "  NumFeats: 1\n",
      "  NumClasses: 10\n",
      "  NumTrainingSamples: 5160000\n",
      "  NumValidationSamples: 860000\n",
      "  NumTestSamples: 2150000\n"
     ]
    }
   ],
   "source": [
    "#Reddit = RedditDataset(self_loop=True)\n",
    "#Enwiki = citation_graph.load_RMAT('enwiki',100,10)\n",
    "Amazon = citation_graph.load_RMAT('amazon',1,10)\n",
    "#_21M = citation_graph.load_RMAT('21',100,10)\n",
    "#_22M = citation_graph.load_RMAT('22',50,10)\n",
    "#_23M = citation_graph.load_RMAT('23',16,10)"
   ]
  },
  {
   "cell_type": "code",
   "execution_count": 3,
   "metadata": {
    "collapsed": true
   },
   "outputs": [],
   "source": [
    "DatasetList = [Amazon]"
   ]
  },
  {
   "cell_type": "code",
   "execution_count": null,
   "metadata": {
    "collapsed": true
   },
   "outputs": [],
   "source": [
    "-\n",
    "        \n",
    "    "
   ]
  },
  {
   "cell_type": "code",
   "execution_count": null,
   "metadata": {
    "collapsed": true
   },
   "outputs": [],
   "source": []
  },
  {
   "cell_type": "code",
   "execution_count": 17,
   "metadata": {
    "collapsed": true
   },
   "outputs": [],
   "source": [
    "data = load_data(args)\n",
    "n_edges = data.graph.number_of_edges()\n",
    "g = DGLGraph(data.graph)\n",
    "degree = g.in_degrees()+g.out_degrees()\n",
    "degree_sort = [i[0] for i in sorted(enumerate(degree), key=lambda x: x[1], reverse=True)]\n",
    "degree_cache_value = [list() for _ in range(32)]\n",
    "for val_ in degree_sort:\n",
    "    degree_cache_value[val_%32].append(val_)"
   ]
  },
  {
   "cell_type": "code",
   "execution_count": 18,
   "metadata": {},
   "outputs": [
    {
     "name": "stdout",
     "output_type": "stream",
     "text": [
      "the graph split to 619 part\n"
     ]
    }
   ],
   "source": [
    "partition_size = 32\n",
    "Node_index = []\n",
    "Edge = []\n",
    "Edge_number = []\n",
    "partition_number = math.ceil(g.number_of_nodes() / partition_size)\n",
    "print(\"the graph split to {:d} part\". format(partition_number))\n",
    "for node_id in range(partition_number):\n",
    "    #print(node_id)\n",
    "    if node_id == partition_number-1:\n",
    "        index = list(range(partition_size*node_id,g.number_of_nodes()))\n",
    "    else:\n",
    "        index = list(range(partition_size*node_id,partition_size*(node_id+1)))\n",
    "    Node_index.append(index)\n",
    "    src, dst = g.out_edges(index)\n",
    "    Edge.append(list(zip(src.tolist(),dst.tolist())))\n",
    "    Edge_number.append(src.shape[0])"
   ]
  },
  {
   "cell_type": "code",
   "execution_count": 19,
   "metadata": {},
   "outputs": [
    {
     "name": "stdout",
     "output_type": "stream",
     "text": [
      "32-hit=3835, miss=123007\n",
      "64-hit=6157, miss=120685\n",
      "128-hit=9591, miss=117251\n",
      "256-hit=14778, miss=112064\n",
      "512-hit=22465, miss=104377\n",
      "1024-hit=33653, miss=93189\n",
      "2048-hit=49521, miss=77321\n",
      "4096-hit=71364, miss=55478\n",
      "8192-hit=98450, miss=28392\n",
      "16384-hit=123432, miss=3410\n"
     ]
    }
   ],
   "source": [
    "Total_size = [32,64,128,256,512,1024,2048,4096,8192,16384]\n",
    "PrecentList = [1]\n",
    "Hit = []\n",
    "for pre in Total_size:\n",
    "    Degree = Cache(pre)\n",
    "    #CacheList = [LRU, MRU, LFU, FIFO, LIFO, RR]\n",
    "    cache_hit = 0\n",
    "    cache_miss = 0\n",
    "    for id_ in degree_sort[0:pre-1]:\n",
    "        Degree.set(id_, id_)\n",
    "    for e in Edge:\n",
    "        for val_ in e:\n",
    "            src, dst = val_\n",
    "            if Degree.has(dst):\n",
    "                cache_hit = cache_hit + 1\n",
    "            else:\n",
    "                cache_miss = cache_miss + 1\n",
    "    Hit.append(cache_hit)\n",
    "    print('{}-hit={}, miss={}'.format(pre, cache_hit, cache_miss))"
   ]
  },
  {
   "cell_type": "code",
   "execution_count": 20,
   "metadata": {},
   "outputs": [
    {
     "data": {
      "image/png": "[encoded data removed]",
      "text/plain": [
       "<matplotlib.figure.Figure at 0x7f5949e17160>"
      ]
     },
     "metadata": {},
     "output_type": "display_data"
    }
   ],
   "source": [
    "import matplotlib.pyplot as plt\n",
    "import numpy as np\n",
    "plt.plot(Total_size,Hit,'r*')\n",
    "\n",
    "plt.show()"
   ]
  },
  {
   "cell_type": "code",
   "execution_count": null,
   "metadata": {
    "collapsed": true
   },
   "outputs": [],
   "source": []
  }
 ],
 "metadata": {
  "kernelspec": {
   "display_name": "Python 3",
   "language": "python",
   "name": "python3"
  },
  "language_info": {
   "codemirror_mode": {
    "name": "ipython",
    "version": 3
   },
   "file_extension": ".py",
   "mimetype": "text/x-python",
   "name": "python",
   "nbconvert_exporter": "python",
   "pygments_lexer": "ipython3",
   "version": "3.6.3"
  }
 },
 "nbformat": 4,
 "nbformat_minor": 2
}

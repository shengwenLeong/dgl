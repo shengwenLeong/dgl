{
 "cells": [
  {
   "cell_type": "code",
   "execution_count": 1,
   "metadata": {},
   "outputs": [],
   "source": [
    "import argparse, time\n",
    "import numpy as np\n",
    "import torch\n",
    "import torch.nn as nn\n",
    "import torch.nn.functional as F\n",
    "from dgl import DGLGraph\n",
    "from dgl.data import register_data_args, load_data"
   ]
  },
  {
   "cell_type": "code",
   "execution_count": 4,
   "metadata": {},
   "outputs": [],
   "source": [
    "    parser = argparse.ArgumentParser(description='GCN')\n",
    "    parser.add_argument(\"--dataset\", type=str, default=\"syn\",\n",
    "            help=\"dropout probability\")\n",
    "    parser.add_argument('--syn-type', type=str, default='RMAT',\n",
    "            help='Type of the synthetic graph generator')\n",
    "    parser.add_argument('--syn-nodes', type=int, default=10,\n",
    "            help='Type of the synthetic graph generator')\n",
    "    parser.add_argument('--syn-nfeats', type=int, default=500,\n",
    "            help='Number of node features')\n",
    "    parser.add_argument('--syn-nclasses', type=int, default=10,\n",
    "            help='Number of output classes')\n",
    "    parser.add_argument('--syn-train-ratio', type=float, default=.1,\n",
    "            help='Ratio of training nodes')\n",
    "    parser.add_argument('--syn-val-ratio', type=float, default=.2,\n",
    "            help='Ratio of validation nodes')\n",
    "    parser.add_argument('--syn-test-ratio', type=float, default=.5,\n",
    "            help='Ratio of testing nodes')\n",
    "    # Args for GNP generator\n",
    "    parser.add_argument('--syn-gnp-n', type=int, default=1000,\n",
    "            help='n in gnp random graph')\n",
    "    parser.add_argument('--syn-gnp-p', type=float, default=0.0,\n",
    "            help='p in gnp random graph')\n",
    "    parser.add_argument('--syn-seed', type=int, default=42,\n",
    "            help='random seed')\n",
    "    parser.add_argument('--RMAT-dataset-path', type=str, default='/home/liangshengwen/PaRMAT/Release/out.txt',\n",
    "            help='Type of the synthetic graph generator')\n",
    "    args = parser.parse_args(args=[])"
   ]
  },
  {
   "cell_type": "code",
   "execution_count": 5,
   "metadata": {},
   "outputs": [
    {
     "name": "stdout",
     "output_type": "stream",
     "text": [
      "Finished synthetic dataset generation.\n",
      "  NumNodes: 10\n",
      "  NumEdges: 10\n",
      "  NumFeats: 500\n",
      "  NumClasses: 10\n",
      "  NumTrainingSamples: 1\n",
      "  NumValidationSamples: 2\n",
      "  NumTestSamples: 5\n"
     ]
    }
   ],
   "source": [
    "    data = load_data(args)\n",
    "    features = torch.FloatTensor(data.features)\n",
    "    labels = torch.LongTensor(data.labels)\n",
    "    train_mask = torch.ByteTensor(data.train_mask)\n",
    "    val_mask = torch.ByteTensor(data.val_mask)\n",
    "    test_mask = torch.ByteTensor(data.test_mask)\n",
    "    in_feats = features.shape[1]\n",
    "    n_classes = data.num_labels\n",
    "    n_edges = data.graph.number_of_edges()"
   ]
  },
  {
   "cell_type": "code",
   "execution_count": 11,
   "metadata": {},
   "outputs": [
    {
     "data": {
      "text/plain": [
       "array([1., 1., 1., ..., 0., 0., 0.])"
      ]
     },
     "execution_count": 11,
     "metadata": {},
     "output_type": "execute_result"
    }
   ],
   "source": [
    "data.train_mask"
   ]
  },
  {
   "cell_type": "code",
   "execution_count": 7,
   "metadata": {},
   "outputs": [
    {
     "data": {
      "text/plain": [
       "tensor([1, 1, 1,  ..., 0, 0, 0], dtype=torch.uint8)"
      ]
     },
     "execution_count": 7,
     "metadata": {},
     "output_type": "execute_result"
    }
   ],
   "source": [
    "train_mask"
   ]
  },
  {
   "cell_type": "code",
   "execution_count": 3,
   "metadata": {},
   "outputs": [
    {
     "name": "stdout",
     "output_type": "stream",
     "text": [
      "[ 0  0  0 ... 52 59 55]\n",
      "19793\n",
      "aaa\n"
     ]
    }
   ],
   "source": [
    "    data = load_data(args)\n",
    "    features = torch.FloatTensor(data.features)\n",
    "    labels = torch.LongTensor(data.labels)\n",
    "    train_mask = torch.ByteTensor(data.train_mask)\n",
    "    val_mask = torch.ByteTensor(data.val_mask)\n",
    "    test_mask = torch.ByteTensor(data.test_mask)\n",
    "    in_feats = features.shape[1]\n",
    "    n_classes = data.num_labels\n",
    "    n_edges = data.graph.number_of_edges()"
   ]
  },
  {
   "cell_type": "code",
   "execution_count": 4,
   "metadata": {},
   "outputs": [
    {
     "data": {
      "text/plain": [
       "array([ 0,  0,  0, ..., 52, 59, 55])"
      ]
     },
     "execution_count": 4,
     "metadata": {},
     "output_type": "execute_result"
    }
   ],
   "source": [
    "data.labels"
   ]
  },
  {
   "cell_type": "code",
   "execution_count": null,
   "metadata": {
    "collapsed": true
   },
   "outputs": [],
   "source": []
  }
 ],
 "metadata": {
  "kernelspec": {
   "display_name": "Python 3",
   "language": "python",
   "name": "python3"
  },
  "language_info": {
   "codemirror_mode": {
    "name": "ipython",
    "version": 3
   },
   "file_extension": ".py",
   "mimetype": "text/x-python",
   "name": "python",
   "nbconvert_exporter": "python",
   "pygments_lexer": "ipython3",
   "version": "3.6.3"
  }
 },
 "nbformat": 4,
 "nbformat_minor": 2
}

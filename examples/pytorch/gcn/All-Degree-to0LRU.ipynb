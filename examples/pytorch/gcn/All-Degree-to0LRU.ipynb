{
 "cells": [
  {
   "cell_type": "code",
   "execution_count": 2,
   "metadata": {
    "collapsed": true
   },
   "outputs": [],
   "source": [
    "import argparse, time\n",
    "import numpy as np\n",
    "import torch\n",
    "import torch.nn as nn\n",
    "import torch.nn.functional as F\n",
    "from dgl import DGLGraph\n",
    "from dgl import graph_index\n",
    "from dgl.graph_index import disjoint_partition\n",
    "from dgl.data import citation_graph, CoraFull, RedditDataset\n",
    "from dgl.data import AmazonCoBuy, Coauthor\n",
    "from dgl.contrib.data import load_data\n",
    "import math\n",
    "from cacheout import Cache,LRUCache,MRUCache,LFUCache,FIFOCache,LIFOCache,RRCache\n",
    "import matplotlib.pyplot as plt\n",
    "import numpy as np"
   ]
  },
  {
   "cell_type": "code",
   "execution_count": 3,
   "metadata": {},
   "outputs": [
    {
     "name": "stdout",
     "output_type": "stream",
     "text": [
      "Finished data loading and preprocessing.\n",
      "  NumNodes: 19717\n",
      "  NumEdges: 88651\n",
      "  NumFeats: 500\n",
      "  NumClasses: 3\n",
      "  NumTrainingSamples: 60\n",
      "  NumValidationSamples: 500\n",
      "  NumTestSamples: 1000\n",
      "Finished data loading and preprocessing.\n",
      "  NumNodes: 65755\n",
      "  NumEdges: 251550\n",
      "  NumFeats: 5414\n",
      "  NumClasses: 210\n",
      "  NumTrainingSamples: 105\n",
      "  NumValidationSamples: 500\n",
      "  NumTestSamples: 969\n"
     ]
    }
   ],
   "source": [
    "#Cora = citation_graph.load_cora()\n",
    "#PubMed = citation_graph.load_pubmed()\n",
    "#Nell   = citation_graph.load_nell_0_001()\n",
    "#CoraFull = CoraFull()\n",
    "\n",
    "#Reddit = RedditDataset(self_loop=True)\n",
    "#Enwiki = citation_graph.load_RMAT('enwiki',100,10)\n",
    "#Amazon = citation_graph.load_RMAT('amazon',100,10)\n",
    "#_21M = citation_graph.load_RMAT('21',100,10)\n",
    "#_22M = citation_graph.load_RMAT('22',50,10)\n",
    "#_23M = citation_graph.load_RMAT('23',16,10)"
   ]
  },
  {
   "cell_type": "code",
   "execution_count": 4,
   "metadata": {
    "collapsed": true
   },
   "outputs": [],
   "source": [
    "DatasetList = [Cora, PubMed, Nell, CoraFull]"
   ]
  },
  {
   "cell_type": "code",
   "execution_count": 7,
   "metadata": {},
   "outputs": [
    {
     "name": "stdout",
     "output_type": "stream",
     "text": [
      "the graph split to 85 part\n",
      "cora-0-<class 'cacheout.lfu.LFUCache'>-hit=7353, miss=3203\n",
      "cora-0.1-<class 'cacheout.lfu.LFUCache'>-hit=7557, miss=2999\n",
      "cora-0.2-<class 'cacheout.lfu.LFUCache'>-hit=7772, miss=2784\n",
      "cora-0.3-<class 'cacheout.lfu.LFUCache'>-hit=7984, miss=2572\n",
      "cora-0.4-<class 'cacheout.lfu.LFUCache'>-hit=8196, miss=2360\n",
      "cora-0.5-<class 'cacheout.lfu.LFUCache'>-hit=8419, miss=2137\n",
      "cora-0.6-<class 'cacheout.lfu.LFUCache'>-hit=8655, miss=1901\n",
      "cora-0.7-<class 'cacheout.lfu.LFUCache'>-hit=8877, miss=1679\n",
      "cora-0.8-<class 'cacheout.lfu.LFUCache'>-hit=9166, miss=1390\n",
      "cora-0.9-<class 'cacheout.lfu.LFUCache'>-hit=9413, miss=1143\n",
      "cora-1.0-<class 'cacheout.lfu.LFUCache'>-hit=9895, miss=661\n",
      "the graph split to 617 part\n",
      "pubmed-0-<class 'cacheout.lfu.LFUCache'>-hit=34709, miss=53942\n",
      "pubmed-0.1-<class 'cacheout.lfu.LFUCache'>-hit=35046, miss=53605\n",
      "pubmed-0.2-<class 'cacheout.lfu.LFUCache'>-hit=35579, miss=53072\n",
      "pubmed-0.3-<class 'cacheout.lfu.LFUCache'>-hit=36450, miss=52201\n",
      "pubmed-0.4-<class 'cacheout.lfu.LFUCache'>-hit=37442, miss=51209\n",
      "pubmed-0.5-<class 'cacheout.lfu.LFUCache'>-hit=38430, miss=50221\n",
      "pubmed-0.6-<class 'cacheout.lfu.LFUCache'>-hit=39520, miss=49131\n",
      "pubmed-0.7-<class 'cacheout.lfu.LFUCache'>-hit=40508, miss=48143\n",
      "pubmed-0.8-<class 'cacheout.lfu.LFUCache'>-hit=41847, miss=46804\n",
      "pubmed-0.9-<class 'cacheout.lfu.LFUCache'>-hit=43089, miss=45562\n",
      "pubmed-1.0-<class 'cacheout.lfu.LFUCache'>-hit=70981, miss=17670\n",
      "the graph split to 2055 part\n",
      "nell.0.001-0-<class 'cacheout.lfu.LFUCache'>-hit=130052, miss=121498\n",
      "nell.0.001-0.1-<class 'cacheout.lfu.LFUCache'>-hit=130257, miss=121293\n",
      "nell.0.001-0.2-<class 'cacheout.lfu.LFUCache'>-hit=130788, miss=120762\n",
      "nell.0.001-0.3-<class 'cacheout.lfu.LFUCache'>-hit=132337, miss=119213\n",
      "nell.0.001-0.4-<class 'cacheout.lfu.LFUCache'>-hit=134073, miss=117477\n",
      "nell.0.001-0.5-<class 'cacheout.lfu.LFUCache'>-hit=135552, miss=115998\n",
      "nell.0.001-0.6-<class 'cacheout.lfu.LFUCache'>-hit=137136, miss=114414\n",
      "nell.0.001-0.7-<class 'cacheout.lfu.LFUCache'>-hit=138455, miss=113095\n",
      "nell.0.001-0.8-<class 'cacheout.lfu.LFUCache'>-hit=139605, miss=111945\n",
      "nell.0.001-0.9-<class 'cacheout.lfu.LFUCache'>-hit=140721, miss=110829\n",
      "nell.0.001-1.0-<class 'cacheout.lfu.LFUCache'>-hit=187842, miss=63708\n",
      "the graph split to 619 part\n",
      "cora_full-0-<class 'cacheout.lfu.LFUCache'>-hit=27838, miss=99004\n",
      "cora_full-0.1-<class 'cacheout.lfu.LFUCache'>-hit=31981, miss=94861\n",
      "cora_full-0.2-<class 'cacheout.lfu.LFUCache'>-hit=35071, miss=91771\n",
      "cora_full-0.3-<class 'cacheout.lfu.LFUCache'>-hit=37580, miss=89262\n",
      "cora_full-0.4-<class 'cacheout.lfu.LFUCache'>-hit=39724, miss=87118\n",
      "cora_full-0.5-<class 'cacheout.lfu.LFUCache'>-hit=41626, miss=85216\n",
      "cora_full-0.6-<class 'cacheout.lfu.LFUCache'>-hit=43339, miss=83503\n",
      "cora_full-0.7-<class 'cacheout.lfu.LFUCache'>-hit=44971, miss=81871\n",
      "cora_full-0.8-<class 'cacheout.lfu.LFUCache'>-hit=46586, miss=80256\n",
      "cora_full-0.9-<class 'cacheout.lfu.LFUCache'>-hit=48246, miss=78596\n",
      "cora_full-1.0-<class 'cacheout.lfu.LFUCache'>-hit=109096, miss=17746\n"
     ]
    }
   ],
   "source": [
    "Total_size = 2048\n",
    "PrecentList = [0, 0.2, 0.4, 0.6, 0.8, 1.0]\n",
    "for d in DatasetList:\n",
    "    Hit = []\n",
    "    g = DGLGraph(d.graph)\n",
    "    degree = g.in_degrees()+g.out_degrees()\n",
    "    degree_sort = [i[0] for i in sorted(enumerate(degree), key=lambda x: x[1], reverse=True)]\n",
    "    partition_size = 32\n",
    "    Node_index = []\n",
    "    Edge = []\n",
    "    Edge_number = []\n",
    "    partition_number = math.ceil(g.number_of_nodes() / partition_size)\n",
    "    print(\"the graph split to {:d} part\". format(partition_number))\n",
    "    for node_id in range(partition_number):\n",
    "        #print(node_id)\n",
    "        if node_id == partition_number-1:\n",
    "            index = list(range(partition_size*node_id,g.number_of_nodes()))\n",
    "        else:\n",
    "            index = list(range(partition_size*node_id,partition_size*(node_id+1)))\n",
    "        Node_index.append(index)\n",
    "        src, dst = g.out_edges(index)\n",
    "        Edge.append(list(zip(src.tolist(),dst.tolist())))\n",
    "        Edge_number.append(src.shape[0])\n",
    "    for pre in PrecentList:\n",
    "        Degree_size = int(Total_size*pre)\n",
    "        Size = Total_size - Degree_size\n",
    "        Degree = Cache(Degree_size)\n",
    "        LRU = LRUCache(maxsize=Size)\n",
    "        MRU = MRUCache(maxsize=Size)\n",
    "        LFU = LFUCache(maxsize=Size)\n",
    "        FIFO = FIFOCache(maxsize=Size)\n",
    "        LIFO = LIFOCache(maxsize=Size)\n",
    "        RR   = RRCache(maxsize = Size)\n",
    "        #CacheList = [LRU, MRU, LFU, FIFO, LIFO, RR]\n",
    "        CacheList = [LFU]\n",
    "        for cache in CacheList:\n",
    "            cache_hit = 0\n",
    "            cache_miss = 0\n",
    "            if Degree_size:\n",
    "                for id_ in degree_sort[0:Degree_size-1]:\n",
    "                    Degree.set(id_, id_)\n",
    "            for e in Edge:\n",
    "                for val_ in e:\n",
    "                    src, dst = val_\n",
    "                    if Degree.has(dst) or cache.has(dst):\n",
    "                        cache_hit = cache_hit + 1\n",
    "                    else:\n",
    "                        cache.set(dst, dst)\n",
    "                        cache_miss = cache_miss + 1\n",
    "        print('{}-{}-{}-hit={}, miss={}'.format(d.name, pre, cache.__class__, cache_hit, cache_miss))"
   ]
  },
  {
   "cell_type": "code",
   "execution_count": 5,
   "metadata": {},
   "outputs": [
    {
     "name": "stdout",
     "output_type": "stream",
     "text": [
      "the graph split to 85 part\n",
      "cora-32-hit=1109, miss=9447\n",
      "cora-64-hit=1601, miss=8955\n",
      "cora-128-hit=2289, miss=8267\n",
      "cora-256-hit=3282, miss=7274\n",
      "cora-512-hit=4755, miss=5801\n",
      "cora-1024-hit=6990, miss=3566\n",
      "cora-2048-hit=9719, miss=837\n",
      "cora-4096-hit=10556, miss=0\n",
      "cora-8192-hit=10556, miss=0\n",
      "cora-16384-hit=10556, miss=0\n",
      "the graph split to 617 part\n",
      "pubmed-32-hit=2620, miss=86031\n",
      "pubmed-64-hit=4411, miss=84240\n",
      "pubmed-128-hit=7290, miss=81361\n",
      "pubmed-256-hit=11882, miss=76769\n",
      "pubmed-512-hit=18992, miss=69659\n",
      "pubmed-1024-hit=29523, miss=59128\n",
      "pubmed-2048-hit=44269, miss=44382\n",
      "pubmed-4096-hit=61039, miss=27612\n",
      "pubmed-8192-hit=74693, miss=13958\n",
      "pubmed-16384-hit=85317, miss=3334\n",
      "the graph split to 2055 part\n",
      "nell.0.001-32-hit=47745, miss=203805\n",
      "nell.0.001-64-hit=69022, miss=182528\n",
      "nell.0.001-128-hit=92110, miss=159440\n",
      "nell.0.001-256-hit=112547, miss=139003\n",
      "nell.0.001-512-hit=123692, miss=127858\n",
      "nell.0.001-1024-hit=131968, miss=119582\n",
      "nell.0.001-2048-hit=141692, miss=109858\n",
      "nell.0.001-4096-hit=154043, miss=97507\n",
      "nell.0.001-8192-hit=170417, miss=81133\n",
      "nell.0.001-16384-hit=191357, miss=60193\n",
      "the graph split to 619 part\n",
      "cora_full-32-hit=3835, miss=123007\n",
      "cora_full-64-hit=6157, miss=120685\n",
      "cora_full-128-hit=9591, miss=117251\n",
      "cora_full-256-hit=14778, miss=112064\n",
      "cora_full-512-hit=22465, miss=104377\n",
      "cora_full-1024-hit=33653, miss=93189\n",
      "cora_full-2048-hit=49521, miss=77321\n",
      "cora_full-4096-hit=71364, miss=55478\n",
      "cora_full-8192-hit=98450, miss=28392\n",
      "cora_full-16384-hit=123432, miss=3410\n"
     ]
    },
    {
     "data": {
      "image/png": "[encoded data removed]",
      "text/plain": [
       "<matplotlib.figure.Figure at 0x7fd348568198>"
      ]
     },
     "metadata": {},
     "output_type": "display_data"
    }
   ],
   "source": [
    "Total_size = [32,64,128,256,512,1024,2048,4096,8192,16384]\n",
    "for d in DatasetList:\n",
    "    Hit = []\n",
    "    g = DGLGraph(d.graph)\n",
    "    degree = g.in_degrees()+g.out_degrees()\n",
    "    degree_sort = [i[0] for i in sorted(enumerate(degree), key=lambda x: x[1], reverse=True)]\n",
    "    partition_size = 32\n",
    "    Node_index = []\n",
    "    Edge = []\n",
    "    Edge_number = []\n",
    "    partition_number = math.ceil(g.number_of_nodes() / partition_size)\n",
    "    print(\"the graph split to {:d} part\". format(partition_number))\n",
    "    for node_id in range(partition_number):\n",
    "        #print(node_id)\n",
    "        if node_id == partition_number-1:\n",
    "            index = list(range(partition_size*node_id,g.number_of_nodes()))\n",
    "        else:\n",
    "            index = list(range(partition_size*node_id,partition_size*(node_id+1)))\n",
    "        Node_index.append(index)\n",
    "        src, dst = g.out_edges(index)\n",
    "        Edge.append(list(zip(src.tolist(),dst.tolist())))\n",
    "        Edge_number.append(src.shape[0])\n",
    "    for pre in Total_size:\n",
    "        Degree = Cache(pre)\n",
    "        cache_hit = 0\n",
    "        cache_miss = 0\n",
    "        for id_ in degree_sort[0:pre-1]:\n",
    "            Degree.set(id_, id_)\n",
    "        for e in Edge:\n",
    "            for val_ in e:\n",
    "                src, dst = val_\n",
    "                if Degree.has(dst):\n",
    "                    cache_hit = cache_hit + 1\n",
    "                else:\n",
    "                    cache_miss = cache_miss + 1\n",
    "        print('{}-{}-hit={}, miss={}'.format(d.name, pre, cache_hit, cache_miss))\n",
    "        Hit.append(cache_hit)\n",
    "    plt.plot(Total_size,Hit)\n",
    "    #write_path = './{}_log.txt'.format(d.name)\n",
    "    #with open(write_path, 'w') as output:\n",
    "    #    for id_, value in enumerate(Hit):\n",
    "    #        output.write(str(Total_size[id_])+','+str(value)+'\\t\\n')\n",
    "        \n",
    "plt.show()"
   ]
  },
  {
   "cell_type": "code",
   "execution_count": null,
   "metadata": {
    "collapsed": true
   },
   "outputs": [],
   "source": []
  },
  {
   "cell_type": "code",
   "execution_count": 17,
   "metadata": {
    "collapsed": true
   },
   "outputs": [],
   "source": [
    "data = load_data(args)\n",
    "n_edges = data.graph.number_of_edges()\n",
    "g = DGLGraph(data.graph)\n",
    "degree = g.in_degrees()+g.out_degrees()\n",
    "degree_sort = [i[0] for i in sorted(enumerate(degree), key=lambda x: x[1], reverse=True)]\n",
    "degree_cache_value = [list() for _ in range(32)]\n",
    "for val_ in degree_sort:\n",
    "    degree_cache_value[val_%32].append(val_)"
   ]
  },
  {
   "cell_type": "code",
   "execution_count": 18,
   "metadata": {},
   "outputs": [
    {
     "name": "stdout",
     "output_type": "stream",
     "text": [
      "the graph split to 619 part\n"
     ]
    }
   ],
   "source": [
    "partition_size = 32\n",
    "Node_index = []\n",
    "Edge = []\n",
    "Edge_number = []\n",
    "partition_number = math.ceil(g.number_of_nodes() / partition_size)\n",
    "print(\"the graph split to {:d} part\". format(partition_number))\n",
    "for node_id in range(partition_number):\n",
    "    #print(node_id)\n",
    "    if node_id == partition_number-1:\n",
    "        index = list(range(partition_size*node_id,g.number_of_nodes()))\n",
    "    else:\n",
    "        index = list(range(partition_size*node_id,partition_size*(node_id+1)))\n",
    "    Node_index.append(index)\n",
    "    src, dst = g.out_edges(index)\n",
    "    Edge.append(list(zip(src.tolist(),dst.tolist())))\n",
    "    Edge_number.append(src.shape[0])"
   ]
  },
  {
   "cell_type": "code",
   "execution_count": 19,
   "metadata": {},
   "outputs": [
    {
     "name": "stdout",
     "output_type": "stream",
     "text": [
      "32-hit=3835, miss=123007\n",
      "64-hit=6157, miss=120685\n",
      "128-hit=9591, miss=117251\n",
      "256-hit=14778, miss=112064\n",
      "512-hit=22465, miss=104377\n",
      "1024-hit=33653, miss=93189\n",
      "2048-hit=49521, miss=77321\n",
      "4096-hit=71364, miss=55478\n",
      "8192-hit=98450, miss=28392\n",
      "16384-hit=123432, miss=3410\n"
     ]
    }
   ],
   "source": [
    "Total_size = [32,64,128,256,512,1024,2048,4096,8192,16384]\n",
    "PrecentList = [1]\n",
    "Hit = []\n",
    "for pre in Total_size:\n",
    "    Degree = Cache(pre)\n",
    "    #CacheList = [LRU, MRU, LFU, FIFO, LIFO, RR]\n",
    "    cache_hit = 0\n",
    "    cache_miss = 0\n",
    "    for id_ in degree_sort[0:pre-1]:\n",
    "        Degree.set(id_, id_)\n",
    "    for e in Edge:\n",
    "        for val_ in e:\n",
    "            src, dst = val_\n",
    "            if Degree.has(dst):\n",
    "                cache_hit = cache_hit + 1\n",
    "            else:\n",
    "                cache_miss = cache_miss + 1\n",
    "    Hit.append(cache_hit)\n",
    "    print('{}-hit={}, miss={}'.format(pre, cache_hit, cache_miss))"
   ]
  },
  {
   "cell_type": "code",
   "execution_count": null,
   "metadata": {
    "collapsed": true
   },
   "outputs": [],
   "source": []
  }
 ],
 "metadata": {
  "kernelspec": {
   "display_name": "Python 3",
   "language": "python",
   "name": "python3"
  },
  "language_info": {
   "codemirror_mode": {
    "name": "ipython",
    "version": 3
   },
   "file_extension": ".py",
   "mimetype": "text/x-python",
   "name": "python",
   "nbconvert_exporter": "python",
   "pygments_lexer": "ipython3",
   "version": "3.6.3"
  }
 },
 "nbformat": 4,
 "nbformat_minor": 2
}
